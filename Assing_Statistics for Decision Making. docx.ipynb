{
 "cells": [
  {
   "cell_type": "code",
   "execution_count": 39,
   "id": "feab55e7-81ec-4417-a7e4-434879022244",
   "metadata": {},
   "outputs": [],
   "source": [
    "# Importing Libary\n",
    "import pandas as pd\n",
    "import numpy as np\n",
    "from scipy import stats"
   ]
  },
  {
   "cell_type": "code",
   "execution_count": 41,
   "id": "e138d5ab-32ee-47d3-b5a0-dc6d8ca7ace1",
   "metadata": {},
   "outputs": [],
   "source": [
    "# Load the dataset\n",
    "df = pd.read_csv(r\"C:\\Users\\HP\\Downloads\\property.csv\")"
   ]
  },
  {
   "cell_type": "code",
   "execution_count": 43,
   "id": "872d64f9-da6c-4186-93dc-123152524bee",
   "metadata": {},
   "outputs": [],
   "source": [
    "# Convert date column to datetime format\n",
    "df['Date'] = pd.to_datetime(df['Date'], format='%d/%m/%Y')"
   ]
  },
  {
   "cell_type": "code",
   "execution_count": 45,
   "id": "3de6859e-f992-4741-a5ac-fac4fad164ba",
   "metadata": {},
   "outputs": [
    {
     "name": "stdout",
     "output_type": "stream",
     "text": [
      "T-Statistic: 1.0277020770199676, P-Value: 0.307483271305555\n"
     ]
    }
   ],
   "source": [
    "#1 Hypothesis Testing for Altona\n",
    "altona_prices = df[df['Suburb'] == 'Altona']['Price'].dropna()\n",
    "mean_price = 800000  # Hypothesized mean price\n",
    "\n",
    "# Perform one-sample t-test\n",
    "t_stat, p_value = stats.ttest_1samp(altona_prices, mean_price)\n",
    "print(f\"T-Statistic: {t_stat}, P-Value: {p_value}\")"
   ]
  },
  {
   "cell_type": "markdown",
   "id": "b32b07ff-71ca-424b-a748-6cb5525f9128",
   "metadata": {},
   "source": [
    "#Hypothesis Testing for Altona Property Prices\n",
    "#Since the p-value (0.307) is greater than 0.05, we fail to reject the \n",
    "#hypothesis that the typical property price is $800,000."
   ]
  },
  {
   "cell_type": "code",
   "execution_count": 69,
   "id": "0cb48542-748c-4247-9a07-b452628a2a64",
   "metadata": {},
   "outputs": [
    {
     "name": "stdout",
     "output_type": "stream",
     "text": [
      "Seasonal T-Test: 3.921101, P-Value: 0.000090\n"
     ]
    }
   ],
   "source": [
    "# 2 Compare means for Summer vs Winter in 2016\n",
    "df_2016 = df[df['Date'].dt.year == 2016]\n",
    "\n",
    "winter_months = [10, 11, 12, 1, 2, 3]\n",
    "summer_months = [4, 5, 6, 7, 8, 9]\n",
    "\n",
    "winter_prices = df_2016[df_2016['Date'].dt.month.isin(winter_months)]['Price'].dropna()\n",
    "summer_prices = df_2016[df_2016['Date'].dt.month.isin(summer_months)]['Price'].dropna()\n",
    "\n",
    "# Perform independent t-test\n",
    "t_stat_seasonal, p_value_seasonal = stats.ttest_ind(winter_prices, summer_prices, equal_var=False)\n",
    "print(f\"Seasonal T-Test: {t_stat_seasonal:3f}, P-Value: {p_value_seasonal:3f}\")"
   ]
  },
  {
   "cell_type": "markdown",
   "id": "c5d1149d-f77f-4156-9e1b-66c50834edab",
   "metadata": {},
   "source": [
    "#Comparison of Seasonal Property Prices in 2016\n",
    "#Since the p-value is less than 0.05, there is a significant difference in property prices between summer and winter months."
   ]
  },
  {
   "cell_type": "code",
   "execution_count": 49,
   "id": "7f65479c-c42e-49f1-8a14-419010f1fb33",
   "metadata": {},
   "outputs": [
    {
     "name": "stdout",
     "output_type": "stream",
     "text": [
      "Probability of 3 out of 10 properties without parking: 0.260\n"
     ]
    }
   ],
   "source": [
    "# 3 Probability calculations for Abbotsford\n",
    "df_abbotsford = df[df['Suburb'] == 'Abbotsford']\n",
    "\n",
    "# Probability of 3 out of 10 properties having no car parking\n",
    "p_no_car = (df_abbotsford['Car'].fillna(0) == 0).mean()\n",
    "prob_3_no_car = stats.binom.pmf(3, 10, p_no_car)\n",
    "print(f\"Probability of 3 out of 10 properties without parking: {prob_3_no_car:.3f}\")"
   ]
  },
  {
   "cell_type": "code",
   "execution_count": 51,
   "id": "025c0525-2a6c-4a42-8d6d-b10fcadc4c8f",
   "metadata": {},
   "outputs": [
    {
     "name": "stdout",
     "output_type": "stream",
     "text": [
      "Probability of 3-room property: 0.357\n"
     ]
    }
   ],
   "source": [
    "# 4 Probability of finding a property with 3 rooms\n",
    "p_3_rooms = (df_abbotsford['Rooms'] == 3).mean()\n",
    "print(f\"Probability of 3-room property: {p_3_rooms:.3f}\")"
   ]
  },
  {
   "cell_type": "code",
   "execution_count": 53,
   "id": "5baf5d1a-3b77-400d-a68c-184d753851a4",
   "metadata": {},
   "outputs": [
    {
     "name": "stdout",
     "output_type": "stream",
     "text": [
      "Probability of 2-bathroom property: 0.339\n"
     ]
    }
   ],
   "source": [
    "# 5 Probability of finding a property with 2 bathrooms\n",
    "p_2_bathrooms = (df_abbotsford['Bathroom'] == 2).mean()\n",
    "print(f\"Probability of 2-bathroom property: {p_2_bathrooms:.3f}\")"
   ]
  }
 ],
 "metadata": {
  "kernelspec": {
   "display_name": "Python 3 (ipykernel)",
   "language": "python",
   "name": "python3"
  },
  "language_info": {
   "codemirror_mode": {
    "name": "ipython",
    "version": 3
   },
   "file_extension": ".py",
   "mimetype": "text/x-python",
   "name": "python",
   "nbconvert_exporter": "python",
   "pygments_lexer": "ipython3",
   "version": "3.11.7"
  }
 },
 "nbformat": 4,
 "nbformat_minor": 5
}
